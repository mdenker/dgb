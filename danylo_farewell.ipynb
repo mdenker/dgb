{
 "cells": [
  {
   "cell_type": "markdown",
   "metadata": {
    "pycharm": {
     "name": "#%% md\n"
    }
   },
   "source": [
    "# An Elephantastic Farewell to Danylo...\n"
   ]
  },
  {
   "cell_type": "markdown",
   "metadata": {},
   "source": [
    "## ... from Tobias\n"
   ]
  },
  {
   "cell_type": "code",
   "execution_count": null,
   "metadata": {
    "pycharm": {
     "name": "#%%\n"
    }
   },
   "outputs": [],
   "source": [
    "import numpy as np\n",
    "import matplotlib.pyplot as plt\n",
    "from matplotlib import animation\n",
    "from IPython.display import HTML\n",
    "\n",
    "\n",
    "def add_vline(grid, x, starty, endy, width):\n",
    "    for i in [int(x) for x in np.arange(x, x+width, 1)]:\n",
    "        for j in [int(x) for x in np.arange(starty, endy, 1)]:\n",
    "            grid[j][i] = 1\n",
    "    \n",
    "    return grid\n",
    "\n",
    "\n",
    "def danylo():\n",
    "    gridx = 160\n",
    "    gridy = 50\n",
    "    grid = np.zeros((gridy, gridx))\n",
    "    \n",
    "    # D\n",
    "    grid = add_vline(grid, 5, 5, 45, 5)\n",
    "    grid = add_vline(grid, 20, 10, 40, 5)\n",
    "    grid = add_vline(grid, 10, 5, 10, 10)\n",
    "    grid = add_vline(grid, 10, 40, 45, 10)\n",
    "    \n",
    "    # A\n",
    "    grid = add_vline(grid, 30, 10, 45, 5)\n",
    "    grid = add_vline(grid, 45, 10, 45, 5)\n",
    "    grid = add_vline(grid, 35, 5, 10, 10)\n",
    "    grid = add_vline(grid, 35, 25, 30, 10)\n",
    "    \n",
    "    # N\n",
    "    grid = add_vline(grid, 55, 5, 45, 5)\n",
    "    grid = add_vline(grid, 75, 5, 45, 5)\n",
    "    grid = add_vline(grid, 60, 10, 20, 5)\n",
    "    grid = add_vline(grid, 65, 15, 35, 5)\n",
    "    grid = add_vline(grid, 70, 30, 40, 5)\n",
    "    \n",
    "    # Y\n",
    "    grid = add_vline(grid, 85, 5, 15, 5)\n",
    "    grid = add_vline(grid, 90, 15, 25, 5)\n",
    "    grid = add_vline(grid, 105, 5, 15, 5)\n",
    "    grid = add_vline(grid, 100, 15, 25, 5)\n",
    "    grid = add_vline(grid, 95, 20, 45, 5)\n",
    "    \n",
    "    # L\n",
    "    grid = add_vline(grid, 115, 5, 45, 5)\n",
    "    grid = add_vline(grid, 120, 40, 45, 10)\n",
    "    \n",
    "    # O\n",
    "    grid = add_vline(grid, 135, 5, 45, 5)\n",
    "    grid = add_vline(grid, 150, 5, 45, 5)\n",
    "    grid = add_vline(grid, 140, 5, 10, 10)\n",
    "    grid = add_vline(grid, 140, 40, 45, 10)\n",
    "    \n",
    "    return grid\n",
    "\n",
    "\n",
    "def num_neighbors(grid, xpos, ypos):\n",
    "    return np.sum(grid[ypos-1:ypos+2, xpos-1:xpos+2]) - grid[ypos][xpos]\n",
    "\n",
    "\n",
    "def update(frame, im):\n",
    "    if frame > 10:\n",
    "        grid = im.get_array()\n",
    "        tmp_grid = np.zeros((grid.shape[0]+2, grid.shape[1]+2))\n",
    "\n",
    "        tmp_grid[1:-1, 1:-1] = grid\n",
    "        updated_grid = tmp_grid.copy()\n",
    "\n",
    "        for i in range(1, grid.shape[0]+1):\n",
    "            for j in range(1, grid.shape[1]+1):\n",
    "                n_neighbors = num_neighbors(tmp_grid, j, i)\n",
    "                if tmp_grid[i][j] == 1:\n",
    "                    if n_neighbors in [2, 3]:\n",
    "                        updated_grid[i][j] = 1\n",
    "                    else:\n",
    "                        updated_grid[i][j] = 0\n",
    "                else:\n",
    "                    if n_neighbors == 3:\n",
    "                        updated_grid[i][j] = 1\n",
    "\n",
    "\n",
    "        im.set_array(updated_grid[1:-1, 1:-1])\n",
    "    \n",
    "    return [im]\n",
    "\n",
    "\n",
    "fig, ax = plt.subplots(figsize=(16, 5))\n",
    "img = ax.imshow(danylo())\n",
    "ax.set_title(\"May your game of life prosper!\")\n",
    "ax.set_xlabel('from Tobias')\n",
    "\n",
    "anim = animation.FuncAnimation(fig, update, fargs=[img], frames=200, interval=100, blit=True)\n",
    "HTML(anim.to_html5_video())\n",
    "\n"
   ]
  },
  {
   "cell_type": "markdown",
   "metadata": {},
   "source": [
    "## ... from Younes\n"
   ]
  },
  {
   "cell_type": "code",
   "execution_count": null,
   "metadata": {
    "pycharm": {
     "name": "#%%\n"
    }
   },
   "outputs": [],
   "source": [
    "\n",
    "#pip install pyfiglet\n",
    "import pyfiglet\n",
    "\n",
    "result = pyfiglet.figlet_format(\"All the best for your future endeavors, Younes\")\n",
    "print(result)"
   ]
  },
  {
   "cell_type": "markdown",
   "metadata": {},
   "source": [
    "## ... from David\n"
   ]
  },
  {
   "cell_type": "code",
   "execution_count": null,
   "metadata": {
    "pycharm": {
     "name": "#%%\n"
    }
   },
   "outputs": [],
   "source": [
    "print(\"All the best for your future adventures, Danylo! Best regards, David D\");"
   ]
  },
  {
   "cell_type": "markdown",
   "metadata": {},
   "source": [
    "## ... from Sara\n"
   ]
  },
  {
   "cell_type": "code",
   "execution_count": null,
   "metadata": {
    "pycharm": {
     "name": "#%%\n"
    }
   },
   "outputs": [],
   "source": [
    "print(\"Goodbye Danylo, I wish you the best of luck for the future!\")\n"
   ]
  },
  {
   "cell_type": "markdown",
   "metadata": {},
   "source": [
    "## ... from Christian\n"
   ]
  },
  {
   "cell_type": "code",
   "execution_count": null,
   "metadata": {
    "pycharm": {
     "name": "#%%\n"
    }
   },
   "outputs": [],
   "source": [
    "print('All the best, Danylo! \\n I hope things will work out as you plan, or preferably, better. \\n Best, Christian')"
   ]
  },
  {
   "cell_type": "markdown",
   "metadata": {},
   "source": [
    "## ... from Simon\n"
   ]
  },
  {
   "cell_type": "code",
   "execution_count": null,
   "metadata": {
    "pycharm": {
     "name": "#%%\n"
    }
   },
   "outputs": [],
   "source": [
    "import pickle\n",
    "import matplotlib.pyplot as plt\n",
    "from viziphant.gpfa import plot_trajectories_spikeplay\n",
    "danylo_farewell = pickle.load(open('danylo_farewell.pkl','rb'))\n",
    "\n",
    "plt.rc('figure', figsize=(10,5))\n",
    "plt.rc('legend',fontsize=5)\n",
    "plt.style.use('dark_background')\n",
    "fig, axes, spikeplay = plot_trajectories_spikeplay(danylo_farewell['single_career_events'],\n",
    "                                                   returned_data=danylo_farewell['latent_career_trajectories'],\n",
    "                                                   gpfa_instance=danylo_farewell['career_trajectory_analysis'],\n",
    "                                                   trial_grouping_dict=danylo_farewell['career_trajectory_dict'],\n",
    "                                                   plot_group_averages=True,\n",
    "                                                   n_trials_to_plot=20,\n",
    "                                                   speed=0.1,\n",
    "                                                   dimensions=[1, 5],\n",
    "                                                   figure_kwargs=dict(figsize=(6, 3)),\n",
    "                                                   eventplot_kwargs=dict(lw=0.9),\n",
    "                                                   slider_kwargs=dict(lw=0.5),\n",
    "                                                   animation_kwargs=dict())\n",
    "axes[0].set_title('Remarkable Career Events')\n",
    "axes[0].set_ylabel('Events')\n",
    "axes[0].set_xlabel('Time (decades)')\n",
    "axes[1].set_title('Latent career trajectories')\n",
    "spikeplay._fig.suptitle(t=danylo_farewell['hidden_message'], y=1.2)\n",
    "spikeplay.save('danylo_farewell.gif', dpi=200)\n",
    "plt.show()\n"
   ]
  },
  {
   "cell_type": "markdown",
   "metadata": {},
   "source": [
    "## ... from Cristiano\n"
   ]
  },
  {
   "cell_type": "code",
   "execution_count": null,
   "metadata": {
    "pycharm": {
     "name": "#%% Cristiano\n"
    }
   },
   "outputs": [],
   "source": [
    "import numpy as np\n",
    "\n",
    "chars = [\"a\", \"b\", \"c\", \"d\", \"e\", \"f\", \"g\", \"h\", \"i\", \"j\", \"k\", \"l\", \"m\",\n",
    "         \"n\", \"o\", \"p\", \"q\", \"r\", \"s\", \"t\", \"u\", \"v\", \"w\", \"x\", \"y\", \"z\",\n",
    "         \"A\", \"B\", \"C\", \"D\", \"E\", \"F\", \"G\", \"H\", \"Y\", \"J\", \"K\", \"L\", \"M\",\n",
    "         \"N\", \"O\", \"P\", \"Q\", \"R\", \"S\", \"T\", \"U\", \"V\", \"W\", \"X\", \"Y\", \"Z\"]\n",
    "other_chars = [\" \", \"!\"]\n",
    "\n",
    "\n",
    "def get_message(i):\n",
    "    if i == 1:\n",
    "        for idx in [12+26, 0, 24, 52, 24, 14, 20, 17, 52, 18, 20, 2, 2, 4,\n",
    "                    18, 18, 52, 13, 14, 19, 52, 1, 4, 52, 18, 15, 0, 17,\n",
    "                    18, 4, 53]:\n",
    "            yield idx\n",
    "\n",
    "    elif i == 2:\n",
    "        for idx in [2+26, 17, 8, 18, 19, 8, 0, 13, 14]:\n",
    "            yield idx\n",
    "\n",
    "    elif i != 1 and i != 2:\n",
    "        for idx in [48, 8, 18, 7, 52, 24, 14, 20, 52, 0, 11, 11, 52, 19, 7,\n",
    "                    4, 52, 1, 4, 18, 19, 52, 8, 13, 52, 24, 14, 20, 17, 52,\n",
    "                    13, 4, 23, 19, 52, 18, 19, 4, 15, 18, 53]:\n",
    "            yield idx\n",
    "\n",
    "def get_char(z):\n",
    "    all_chars = chars + other_chars\n",
    "    return all_chars[z]\n",
    "\n",
    "\n",
    "z = np.random.randint(-100, 100, 1)\n",
    "c = z\n",
    "try:\n",
    "    b = c\n",
    "    if b == c:\n",
    "        if c >= 0:\n",
    "            for i in range(3):\n",
    "                for ii in get_message(i):\n",
    "                    x = get_char(ii)\n",
    "                    for l in range(len(x)):\n",
    "                        print(x[l+c], end='')\n",
    "                print(\"\\n\")\n",
    "        else:\n",
    "            print(\"You must find a valid value for 'c' to get the message!\")\n",
    "except:\n",
    "    print(\"You must find a valid value for 'c' to get the message!\")\n"
   ]
  },
  {
   "cell_type": "markdown",
   "metadata": {},
   "source": [
    "## ... from Sacha\n"
   ]
  },
  {
   "cell_type": "code",
   "execution_count": null,
   "metadata": {
    "pycharm": {
     "name": "#%%\n"
    }
   },
   "outputs": [],
   "source": [
    "print(\"Dear Danylo, wishing you all the best in your future endeavors, whether it be at Berkeley or anywhere the wind takes you! Sacha\")\n"
   ]
  },
  {
   "cell_type": "markdown",
   "metadata": {},
   "source": [
    "## ... from Junji\n"
   ]
  },
  {
   "cell_type": "code",
   "execution_count": null,
   "metadata": {
    "pycharm": {
     "name": "#%%\n"
    }
   },
   "outputs": [],
   "source": [
    "import random\n",
    "\n",
    "def jumble(text):\n",
    "    new_sentences = []\n",
    "    for sentence in text.split('.'):\n",
    "        new_clauses = []\n",
    "        for clause in sentence.split(','):\n",
    "            new_words = []\n",
    "            for word in clause.split(' '):\n",
    "                if len(word) == 0:\n",
    "                    continue\n",
    "                elif word[0] == \"*\":\n",
    "                    new_word = word[1:]\n",
    "                elif len(word) < 4:\n",
    "                    new_word = word\n",
    "                else:\n",
    "                    letters = [x for x in word[1:-1]]\n",
    "                    random.shuffle(letters)\n",
    "                    new_word = f\"{word[0]}{''.join(letters)}{word[-1]}\"\n",
    "                new_words.append(new_word)\n",
    "            new_clauses.append(' '.join(new_words))\n",
    "        new_sentences.append(', '.join(new_clauses))\n",
    "    return '. '.join(new_sentences)\n",
    "\n",
    "text1 = \"I would really appreciate your great contribution to Elephant\" \\\n",
    "        \" development and organization. Wishing you all the best in the next\" \\\n",
    "        \" phase of your career. *Junji\"\n",
    "text2 = \"According to a researcher at Cambridge University, it doesn't matter\" \\\n",
    "        \" in what order the letters in a word are, the only important thing is\" \\\n",
    "        \" that the first and last letter be at the right place. The rest can be\" \\\n",
    "        \" a total mess and you can still read it without problem. This is\" \\\n",
    "        \" because the human mind does not read every letter by itself but the\" \\\n",
    "        \" word as a whole.\"\n",
    "\n",
    "print(jumble(text1))\n",
    "print()\n",
    "print(jumble(text2))\n"
   ]
  },
  {
   "cell_type": "markdown",
   "metadata": {},
   "source": [
    "## ... from Regi\n"
   ]
  },
  {
   "cell_type": "code",
   "execution_count": null,
   "metadata": {
    "pycharm": {
     "name": "#%%\n"
    }
   },
   "outputs": [],
   "source": [
    "with open('ucfm7bq8B4qCMOSmof0m.ucfm7bq8B4qCMOSmof0m', 'r') as ucfm7bq8BAqCMOSmof0m:\n",
    "    ucfm7bq8BAqCM0SmofOm = ucfm7bq8BAqCMOSmof0m.read()\n",
    "\n",
    "\n",
    "def ucfm7bqB84qCM0Smof0m(ucfm7bqB84qCMOSmofOm):\n",
    "    ucfm7bqBBAqCM0SmofOm = {str(0)[0]: '.-', '\\n': '.', ' ': ''}\n",
    "    ucfm7bqB84qCMOSmofOm += ' '\n",
    "    ucfm7bqB84qCM0Smof0m = ''\n",
    "    ucfm7bqB8AqCMOSmofOm = ''\n",
    "    for ucfm7bqBB4qCMOSmofOm in ucfm7bqB84qCMOSmofOm:\n",
    "        if (ucfm7bqBB4qCMOSmofOm != ' '):\n",
    "            ucfm7bqB84qCMOSmof0m = 0\n",
    "            ucfm7bqB8AqCMOSmofOm += ucfm7bqBB4qCMOSmofOm\n",
    "        else:\n",
    "            ucfm7bqB84qCMOSmof0m += 1\n",
    "            if ucfm7bqB84qCMOSmof0m == 2:\n",
    "                ucfm7bqB84qCM0Smof0m += ' '\n",
    "            else:\n",
    "                ucfm7bqB84qCM0Smof0m += list(ucfm7bqBBAqCM0SmofOm.keys())[\n",
    "                    list(ucfm7bqBBAqCM0SmofOm.values()).index(ucfm7bqB8AqCMOSmofOm)]\n",
    "                ucfm7bqB8AqCMOSmofOm = ''\n",
    "\n",
    "    print(ucfm7bqB84qCM0Smof0m)\n",
    "\n",
    "ucfm7bqB84qCM0Smof0m(ucfm7bq8BAqCM0SmofOm)"
   ]
  },
  {
   "cell_type": "markdown",
   "metadata": {
    "pycharm": {
     "name": "#%% md\n"
    }
   },
   "source": [
    "\n",
    "## ... and from Alexandre"
   ]
  },
  {
   "cell_type": "markdown",
   "metadata": {},
   "source": [
    "Sometimes, programming problems are like real-life problems: you just need to hit them with a hammer until they work."
   ]
  },
  {
   "cell_type": "code",
   "execution_count": null,
   "metadata": {
    "pycharm": {
     "name": "#%%\n"
    }
   },
   "outputs": [],
   "source": [
    "def hammer(f):\n",
    "    def h(n,x=None):\n",
    "        return 4/(1+f(n,x))\n",
    "    return h\n",
    "def hit(f):\n",
    "    def h(n,x=None):\n",
    "        x = f(2*n+1,x)\n",
    "        for n_ in range(2*n-1, n-1, -2):\n",
    "            x = n_**2/(2+x)\n",
    "        return x\n",
    "    return h"
   ]
  },
  {
   "cell_type": "code",
   "execution_count": null,
   "metadata": {
    "pycharm": {
     "name": "#%%\n"
    }
   },
   "outputs": [],
   "source": [
    "@hammer\n",
    "def f(n,x):\n",
    "    return x or n\n",
    "f(1)"
   ]
  },
  {
   "cell_type": "code",
   "execution_count": null,
   "metadata": {
    "pycharm": {
     "name": "#%%\n"
    }
   },
   "outputs": [],
   "source": [
    "@hammer\n",
    "@hit  # The more hits, the better the approximation\n",
    "@hit\n",
    "@hit\n",
    "@hit\n",
    "def f(n,x):\n",
    "    return x or n\n",
    "f(1)\n"
   ]
  },
  {
   "cell_type": "markdown",
   "metadata": {},
   "source": [
    "## ... from Julia\n"
   ]
  },
  {
   "cell_type": "code",
   "execution_count": null,
   "metadata": {
    "pycharm": {
     "name": "#%%\n"
    }
   },
   "outputs": [],
   "source": [
    "with open('mystery.md', 'r') as f:\n",
    "    line = f.read()\n",
    "x = 196\n",
    "while len(line)>=x:\n",
    "    print(line[:x])\n",
    "    line = line[x:]\n"
   ]
  },
  {
   "cell_type": "markdown",
   "metadata": {},
   "source": [
    "## ... and from the Elephant!\n"
   ]
  },
  {
   "cell_type": "code",
   "execution_count": null,
   "metadata": {
    "pycharm": {
     "name": "#%%\n"
    }
   },
   "outputs": [],
   "source": [
    "import IPython\n",
    "IPython.display.IFrame(\"https://player.vimeo.com/video/519704378?badge=0&amp\", width=640,height=564, frameborder=9, allow='autoplay', fullscreen='allowfullscreen')"
   ]
  },
  {
   "cell_type": "code",
   "execution_count": null,
   "metadata": {
    "pycharm": {
     "name": "#%%\n"
    }
   },
   "outputs": [],
   "source": []
  }
 ],
 "metadata": {
  "kernelspec": {
   "display_name": "Python 3",
   "language": "python",
   "name": "python3"
  },
  "language_info": {
   "codemirror_mode": {
    "name": "ipython",
    "version": 3
   },
   "file_extension": ".py",
   "mimetype": "text/x-python",
   "name": "python",
   "nbconvert_exporter": "python",
   "pygments_lexer": "ipython3",
   "version": "3.8.8"
  }
 },
 "nbformat": 4,
 "nbformat_minor": 4
}